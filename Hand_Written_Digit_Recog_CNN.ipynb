{
  "nbformat": 4,
  "nbformat_minor": 0,
  "metadata": {
    "colab": {
      "name": "Hand_Written_Digit_Recog_CNN.ipynb",
      "provenance": [],
      "include_colab_link": true
    },
    "kernelspec": {
      "name": "python3",
      "display_name": "Python 3"
    },
    "accelerator": "GPU"
  },
  "cells": [
    {
      "cell_type": "markdown",
      "metadata": {
        "id": "view-in-github",
        "colab_type": "text"
      },
      "source": [
        "<a href=\"https://colab.research.google.com/github/KOSHALESHMEHER/Digit_Recognition_FCNN/blob/master/Hand_Written_Digit_Recog_CNN.ipynb\" target=\"_parent\"><img src=\"https://colab.research.google.com/assets/colab-badge.svg\" alt=\"Open In Colab\"/></a>"
      ]
    },
    {
      "cell_type": "code",
      "metadata": {
        "id": "1vvN8m5BP5Zb",
        "colab_type": "code",
        "colab": {}
      },
      "source": [
        "import torch\n",
        "import matplotlib.pyplot as plt\n",
        "import numpy as np\n",
        "\n",
        "import torchvision\n",
        "import torchvision.transforms as transforms\n",
        "\n",
        "import torch.nn as nn\n",
        "import torch.optim as optim"
      ],
      "execution_count": 0,
      "outputs": []
    },
    {
      "cell_type": "code",
      "metadata": {
        "id": "PlJ2roijQMlv",
        "colab_type": "code",
        "outputId": "d665ebdd-bbbc-4404-d1b6-d138a4f4317a",
        "colab": {
          "base_uri": "https://localhost:8080/",
          "height": 272
        }
      },
      "source": [
        "trainset = torchvision.datasets.MNIST(root='./data', train=True, \n",
        "                                        download=True, \n",
        "                                        transform=transforms.ToTensor())\n",
        "testset = torchvision.datasets.MNIST(root='./data', train=False, download=True, transform=transforms.ToTensor())"
      ],
      "execution_count": 0,
      "outputs": [
        {
          "output_type": "stream",
          "text": [
            "\r0it [00:00, ?it/s]"
          ],
          "name": "stderr"
        },
        {
          "output_type": "stream",
          "text": [
            "Downloading http://yann.lecun.com/exdb/mnist/train-images-idx3-ubyte.gz to ./data/MNIST/raw/train-images-idx3-ubyte.gz\n"
          ],
          "name": "stdout"
        },
        {
          "output_type": "stream",
          "text": [
            "9920512it [00:02, 3465588.74it/s]                             \n"
          ],
          "name": "stderr"
        },
        {
          "output_type": "stream",
          "text": [
            "Extracting ./data/MNIST/raw/train-images-idx3-ubyte.gz to ./data/MNIST/raw\n"
          ],
          "name": "stdout"
        },
        {
          "output_type": "stream",
          "text": [
            "\r0it [00:00, ?it/s]"
          ],
          "name": "stderr"
        },
        {
          "output_type": "stream",
          "text": [
            "Downloading http://yann.lecun.com/exdb/mnist/train-labels-idx1-ubyte.gz to ./data/MNIST/raw/train-labels-idx1-ubyte.gz\n"
          ],
          "name": "stdout"
        },
        {
          "output_type": "stream",
          "text": [
            "32768it [00:00, 58473.89it/s]                           \n",
            "0it [00:00, ?it/s]"
          ],
          "name": "stderr"
        },
        {
          "output_type": "stream",
          "text": [
            "Extracting ./data/MNIST/raw/train-labels-idx1-ubyte.gz to ./data/MNIST/raw\n",
            "Downloading http://yann.lecun.com/exdb/mnist/t10k-images-idx3-ubyte.gz to ./data/MNIST/raw/t10k-images-idx3-ubyte.gz\n"
          ],
          "name": "stdout"
        },
        {
          "output_type": "stream",
          "text": [
            "1654784it [00:01, 973538.04it/s]                             \n",
            "0it [00:00, ?it/s]"
          ],
          "name": "stderr"
        },
        {
          "output_type": "stream",
          "text": [
            "Extracting ./data/MNIST/raw/t10k-images-idx3-ubyte.gz to ./data/MNIST/raw\n",
            "Downloading http://yann.lecun.com/exdb/mnist/t10k-labels-idx1-ubyte.gz to ./data/MNIST/raw/t10k-labels-idx1-ubyte.gz\n"
          ],
          "name": "stdout"
        },
        {
          "output_type": "stream",
          "text": [
            "8192it [00:00, 22129.60it/s]            "
          ],
          "name": "stderr"
        },
        {
          "output_type": "stream",
          "text": [
            "Extracting ./data/MNIST/raw/t10k-labels-idx1-ubyte.gz to ./data/MNIST/raw\n",
            "Processing...\n",
            "Done!\n"
          ],
          "name": "stdout"
        },
        {
          "output_type": "stream",
          "text": [
            "\n"
          ],
          "name": "stderr"
        }
      ]
    },
    {
      "cell_type": "code",
      "metadata": {
        "id": "tidgq3gDQgUz",
        "colab_type": "code",
        "colab": {}
      },
      "source": [
        "batch_size = 4"
      ],
      "execution_count": 0,
      "outputs": []
    },
    {
      "cell_type": "code",
      "metadata": {
        "id": "dJ3Fui0AQi_4",
        "colab_type": "code",
        "colab": {}
      },
      "source": [
        "trainloader = torch.utils.data.DataLoader(trainset, batch_size=batch_size, shuffle=True)\n",
        "testloader = torch.utils.data.DataLoader(testset, batch_size=batch_size, shuffle=False)"
      ],
      "execution_count": 0,
      "outputs": []
    },
    {
      "cell_type": "code",
      "metadata": {
        "id": "4jqWAB7PQzNy",
        "colab_type": "code",
        "outputId": "d1e5526b-44c4-4ada-8179-fb277f4dc285",
        "colab": {
          "base_uri": "https://localhost:8080/",
          "height": 72
        }
      },
      "source": [
        "dataiter = iter(trainloader)\n",
        "images, labels = dataiter.next()\n",
        "\n",
        "print(images.shape)\n",
        "\n",
        "print(images[0].shape)\n",
        "print(labels[0].item())"
      ],
      "execution_count": 0,
      "outputs": [
        {
          "output_type": "stream",
          "text": [
            "torch.Size([4, 1, 28, 28])\n",
            "torch.Size([1, 28, 28])\n",
            "9\n"
          ],
          "name": "stdout"
        }
      ]
    },
    {
      "cell_type": "code",
      "metadata": {
        "id": "kqW8lPIVQ233",
        "colab_type": "code",
        "colab": {}
      },
      "source": [
        "def imshow(img, title):\n",
        "    \n",
        "    plt.figure(figsize=(batch_size * 4, 4))\n",
        "    plt.axis('off')\n",
        "    plt.imshow(np.transpose(img, (1, 2, 0)))\n",
        "    plt.title(title)\n",
        "    plt.show()"
      ],
      "execution_count": 0,
      "outputs": []
    },
    {
      "cell_type": "code",
      "metadata": {
        "id": "FlSY22HIQ9j5",
        "colab_type": "code",
        "colab": {}
      },
      "source": [
        "def show_batch_images(dataloader):\n",
        "    images, labels = next(iter(dataloader))\n",
        "    \n",
        "    img = torchvision.utils.make_grid(images)\n",
        "    imshow(img, title=[str(x.item()) for x in labels])\n",
        "    \n",
        "    return images, labels"
      ],
      "execution_count": 0,
      "outputs": []
    },
    {
      "cell_type": "code",
      "metadata": {
        "id": "JQjy9MqrRBj6",
        "colab_type": "code",
        "outputId": "0b3701d8-3192-4e00-a9cf-1e45f93682de",
        "colab": {
          "base_uri": "https://localhost:8080/",
          "height": 265
        }
      },
      "source": [
        "images, labels = show_batch_images(trainloader)"
      ],
      "execution_count": 0,
      "outputs": [
        {
          "output_type": "display_data",
          "data": {
            "image/png": "[encoded data removed]",
            "text/plain": [
              "<Figure size 1152x288 with 1 Axes>"
            ]
          },
          "metadata": {
            "tags": []
          }
        }
      ]
    },
    {
      "cell_type": "code",
      "metadata": {
        "id": "1O910aBeREiA",
        "colab_type": "code",
        "outputId": "f29cc00b-2d43-46da-f1a7-9b148c4863c6",
        "colab": {
          "base_uri": "https://localhost:8080/",
          "height": 265
        }
      },
      "source": [
        "images, labels = show_batch_images(testloader)"
      ],
      "execution_count": 0,
      "outputs": [
        {
          "output_type": "display_data",
          "data": {
            "image/png": "[encoded data removed]",
            "text/plain": [
              "<Figure size 1152x288 with 1 Axes>"
            ]
          },
          "metadata": {
            "tags": []
          }
        }
      ]
    },
    {
      "cell_type": "code",
      "metadata": {
        "id": "Nt2QNPh3RJD0",
        "colab_type": "code",
        "colab": {}
      },
      "source": [
        "class CNN_BN(nn.Module):\n",
        "    def __init__(self): \n",
        "        super(CNN_BN, self).__init__()\n",
        "        self.features = nn.Sequential(\n",
        "            nn.Conv2d(1, 3, 5),         # (N, 1, 28, 28) -> (N,  3, 24, 24)\n",
        "            nn.BatchNorm2d(3),\n",
        "            nn.ReLU(),\n",
        "            nn.AvgPool2d(2, stride=2),  # (N, 3, 24, 24) -> (N,  3, 12, 12)\n",
        "            nn.Conv2d(3, 6, 3),\n",
        "            nn.BatchNorm2d(6)           # (N, 3, 12, 12) -> (N,  6, 10, 10) \n",
        "         )\n",
        "        self.features1 = nn.Sequential(\n",
        "            nn.ReLU(),\n",
        "            nn.AvgPool2d(2, stride=2)   # (N, 6, 10, 10) -> (N,  6, 5, 5)\n",
        "        )\n",
        "        self.classifier = nn.Sequential(\n",
        "            nn.Linear(150, 25),         # (N, 150) -> (N, 25)\n",
        "            nn.BatchNorm1d(25),\n",
        "            nn.ReLU(),\n",
        "            nn.Linear(25,10)            # (N, 25) -> (N, 10)\n",
        "        )\n",
        "        \n",
        "    def forward(self, x):\n",
        "        x = self.features(x)\n",
        "        x = self.features1(x)\n",
        "        x = x.view(x.size(0), -1)\n",
        "        x = self.classifier(x)\n",
        "        return x\n",
        "    "
      ],
      "execution_count": 0,
      "outputs": []
    },
    {
      "cell_type": "code",
      "metadata": {
        "id": "2Uwc3FIQRNkg",
        "colab_type": "code",
        "colab": {}
      },
      "source": [
        "model = CNN_BN()"
      ],
      "execution_count": 0,
      "outputs": []
    },
    {
      "cell_type": "code",
      "metadata": {
        "id": "AfvjUNWIRQko",
        "colab_type": "code",
        "colab": {}
      },
      "source": [
        "batch_size = 512"
      ],
      "execution_count": 0,
      "outputs": []
    },
    {
      "cell_type": "code",
      "metadata": {
        "id": "Fv33buq2RTup",
        "colab_type": "code",
        "colab": {}
      },
      "source": [
        "trainloader = torch.utils.data.DataLoader(trainset, batch_size=batch_size, shuffle=True)\n",
        "testloader = torch.utils.data.DataLoader(testset, batch_size=batch_size, shuffle=False)"
      ],
      "execution_count": 0,
      "outputs": []
    },
    {
      "cell_type": "markdown",
      "metadata": {
        "id": "Wo84nvoHUQK1",
        "colab_type": "text"
      },
      "source": [
        "## **GPU Execution**"
      ]
    },
    {
      "cell_type": "code",
      "metadata": {
        "id": "x4lLOP8uUOau",
        "colab_type": "code",
        "outputId": "0d229f5e-518b-4e88-cd79-27388165d5b6",
        "colab": {
          "base_uri": "https://localhost:8080/",
          "height": 35
        }
      },
      "source": [
        "device = torch.device(\"cuda:0\" if torch.cuda.is_available() else \"cpu\")\n",
        "print(device)"
      ],
      "execution_count": 0,
      "outputs": [
        {
          "output_type": "stream",
          "text": [
            "cuda:0\n"
          ],
          "name": "stdout"
        }
      ]
    },
    {
      "cell_type": "code",
      "metadata": {
        "id": "_Ha06szRUkXH",
        "colab_type": "code",
        "colab": {}
      },
      "source": [
        "def evaluation(dataloader):\n",
        "    total, correct = 0, 0\n",
        "    for data in dataloader:\n",
        "        inputs, labels = data\n",
        "        inputs, labels = inputs.to(device), labels.to(device)\n",
        "        outputs = model(inputs)\n",
        "        _, pred = torch.max(outputs.data, 1)\n",
        "        total += labels.size(0)\n",
        "        correct += (pred == labels).sum().item()\n",
        "    return 100 * correct / total"
      ],
      "execution_count": 0,
      "outputs": []
    },
    {
      "cell_type": "code",
      "metadata": {
        "id": "bYFE4OaXUyKl",
        "colab_type": "code",
        "colab": {}
      },
      "source": [
        "model = CNN_BN().to(device)"
      ],
      "execution_count": 0,
      "outputs": []
    },
    {
      "cell_type": "code",
      "metadata": {
        "id": "0LHGOS2eUzR_",
        "colab_type": "code",
        "colab": {}
      },
      "source": [
        "loss_fn = nn.CrossEntropyLoss()\n",
        "opt = optim.Adam(model.parameters())"
      ],
      "execution_count": 0,
      "outputs": []
    },
    {
      "cell_type": "code",
      "metadata": {
        "id": "AoncC5sFU3cp",
        "colab_type": "code",
        "outputId": "c43d0e38-34f8-43eb-f4fc-cafd9f6ba99a",
        "colab": {
          "base_uri": "https://localhost:8080/",
          "height": 632
        }
      },
      "source": [
        "%%time\n",
        "\n",
        "loss_epoch_model_arr = []\n",
        "\n",
        "max_epochs = 20\n",
        "\n",
        "for epoch in range(max_epochs):\n",
        "\n",
        "    for i, data in enumerate(trainloader, 0):\n",
        "\n",
        "        inputs, labels = data\n",
        "        inputs, labels = inputs.to(device), labels.to(device)\n",
        "\n",
        "        # train model\n",
        "        opt.zero_grad()\n",
        "        outputs = model(inputs)\n",
        "        loss = loss_fn(outputs, labels)\n",
        "        loss.backward()\n",
        "        opt.step()\n",
        "        \n",
        "        \n",
        "    loss_epoch_model_arr.append(loss.item())\n",
        "      \n",
        "    print('Epoch: %d/%d, Test acc: %0.2f      Train  acc: %0.2f  ' % (epoch, max_epochs, evaluation(testloader), evaluation(trainloader)))\n",
        "    \n",
        "\n",
        "plt.plot(loss_epoch_model_arr)\n",
        "plt.show()"
      ],
      "execution_count": 0,
      "outputs": [
        {
          "output_type": "stream",
          "text": [
            "Epoch: 0/20, Test acc: 94.96      Train  acc: 94.23  \n",
            "Epoch: 1/20, Test acc: 97.13      Train  acc: 96.81  \n",
            "Epoch: 2/20, Test acc: 97.90      Train  acc: 97.47  \n",
            "Epoch: 3/20, Test acc: 98.09      Train  acc: 97.87  \n",
            "Epoch: 4/20, Test acc: 98.33      Train  acc: 98.14  \n",
            "Epoch: 5/20, Test acc: 98.50      Train  acc: 98.40  \n",
            "Epoch: 6/20, Test acc: 98.50      Train  acc: 98.51  \n",
            "Epoch: 7/20, Test acc: 98.64      Train  acc: 98.63  \n",
            "Epoch: 8/20, Test acc: 98.61      Train  acc: 98.71  \n",
            "Epoch: 9/20, Test acc: 98.75      Train  acc: 98.78  \n",
            "Epoch: 10/20, Test acc: 98.78      Train  acc: 98.90  \n",
            "Epoch: 11/20, Test acc: 98.71      Train  acc: 98.91  \n",
            "Epoch: 12/20, Test acc: 98.76      Train  acc: 99.01  \n",
            "Epoch: 13/20, Test acc: 98.76      Train  acc: 99.01  \n",
            "Epoch: 14/20, Test acc: 98.72      Train  acc: 99.00  \n",
            "Epoch: 15/20, Test acc: 98.83      Train  acc: 99.06  \n",
            "Epoch: 16/20, Test acc: 98.82      Train  acc: 99.11  \n",
            "Epoch: 17/20, Test acc: 98.85      Train  acc: 99.15  \n",
            "Epoch: 18/20, Test acc: 98.84      Train  acc: 99.15  \n",
            "Epoch: 19/20, Test acc: 98.83      Train  acc: 99.17  \n"
          ],
          "name": "stdout"
        },
        {
          "output_type": "display_data",
          "data": {
            "image/png": "[encoded data removed]",
            "text/plain": [
              "<Figure size 432x288 with 1 Axes>"
            ]
          },
          "metadata": {
            "tags": []
          }
        },
        {
          "output_type": "stream",
          "text": [
            "CPU times: user 5min 12s, sys: 2.39 s, total: 5min 15s\n",
            "Wall time: 5min 15s\n"
          ],
          "name": "stdout"
        }
      ]
    }
  ]
}